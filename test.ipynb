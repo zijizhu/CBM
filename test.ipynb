{
 "cells": [
  {
   "cell_type": "code",
   "execution_count": 9,
   "metadata": {},
   "outputs": [],
   "source": [
    "import os\n",
    "import torch\n",
    "import argparse\n",
    "import numpy as np\n",
    "import pandas as pd\n",
    "from torch import nn"
   ]
  },
  {
   "cell_type": "code",
   "execution_count": 10,
   "metadata": {},
   "outputs": [],
   "source": [
    "def clean_label(true_labels):\n",
    "    true_labels = np.array(true_labels)\n",
    "    if np.min(true_labels) > 0:\n",
    "        true_labels -= np.min(true_labels)\n",
    "    return true_labels"
   ]
  },
  {
   "cell_type": "code",
   "execution_count": 12,
   "metadata": {},
   "outputs": [],
   "source": [
    "with open('./data/LM4CV/CUB_200_2011/image_class_labels.txt', 'r') as fp:\n",
    "    true_labels = [eval(line.split(\" \")[1]) for line in fp.read().strip().split(\"\\n\")]\n",
    "    true_labels = clean_label(true_labels)\n",
    "    train_test_split = pd.read_csv(os.path.join('data', 'LM4CV', 'CUB_200_2011', 'train_test_split.txt'),\n",
    "                                sep=' ', names=['img_id', 'is_training_img'])\n",
    "    train_test_split = train_test_split['is_training_img'].values\n",
    "    train_indices = np.where(train_test_split == 1)\n",
    "    test_indices = np.where(train_test_split == 0)\n",
    "    train_labels, test_labels = true_labels[train_indices], true_labels[test_indices]"
   ]
  },
  {
   "cell_type": "code",
   "execution_count": 14,
   "metadata": {},
   "outputs": [
    {
     "data": {
      "text/plain": [
       "200"
      ]
     },
     "execution_count": 14,
     "metadata": {},
     "output_type": "execute_result"
    }
   ],
   "source": [
    "len(np.unique(train_labels))"
   ]
  },
  {
   "cell_type": "code",
   "execution_count": null,
   "metadata": {},
   "outputs": [],
   "source": []
  }
 ],
 "metadata": {
  "kernelspec": {
   "display_name": "logichoi",
   "language": "python",
   "name": "python3"
  },
  "language_info": {
   "codemirror_mode": {
    "name": "ipython",
    "version": 3
   },
   "file_extension": ".py",
   "mimetype": "text/x-python",
   "name": "python",
   "nbconvert_exporter": "python",
   "pygments_lexer": "ipython3",
   "version": "3.11.7"
  }
 },
 "nbformat": 4,
 "nbformat_minor": 2
}
