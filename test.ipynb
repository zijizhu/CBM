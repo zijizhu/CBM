{
 "cells": [
  {
   "cell_type": "code",
   "execution_count": 1,
   "metadata": {},
   "outputs": [],
   "source": [
    "import os\n",
    "import clip\n",
    "import torch\n",
    "import argparse\n",
    "import numpy as np\n",
    "import pandas as pd\n",
    "from torch import nn\n",
    "from torchvision import transforms as T\n",
    "\n",
    "from models.lm4cv import mean_mahalanobis_distance"
   ]
  },
  {
   "cell_type": "code",
   "execution_count": 2,
   "metadata": {},
   "outputs": [],
   "source": [
    "D = 64\n",
    "K = 100\n",
    "N = 1000\n",
    "T = torch.randn(N, D)\n",
    "E = torch.randn(K, D)"
   ]
  },
  {
   "cell_type": "code",
   "execution_count": 3,
   "metadata": {},
   "outputs": [],
   "source": [
    "embedder, preprocess = clip.load('ViT-B/32', device='cpu')\n",
    "raw_concepts = open(\"data/LM4CV/cub_attributes.txt\", 'r').read().strip().split(\"\\n\")\n",
    "\n",
    "full_concept_emb = []   # Matrix T\n",
    "batch_size = 32\n",
    "\n",
    "prompt_prefix = 'The bird has '\n",
    "num_batches = len(raw_concepts) // batch_size + 1\n",
    "for i in range(num_batches):\n",
    "    batch_concepts = raw_concepts[i * batch_size: (i + 1) * batch_size]\n",
    "    batch_concept_emb = clip.tokenize([prompt_prefix + attr for attr in batch_concepts])\n",
    "    full_concept_emb.append(embedder.encode_text(batch_concept_emb).detach().cpu())\n",
    "\n",
    "full_concept_emb = torch.concat(full_concept_emb).float()\n",
    "full_concept_emb = full_concept_emb / full_concept_emb.norm(dim=-1, keepdim=True)   # Matrix T"
   ]
  },
  {
   "cell_type": "code",
   "execution_count": 21,
   "metadata": {},
   "outputs": [],
   "source": [
    "def mahalanobis_distance(x, mu, sigma_inv):\n",
    "    x = x - mu.unsqueeze(0)\n",
    "    print('x', x.size())\n",
    "    print('x @ sigma_inv @ x.T', x @ sigma_inv @ x.T)\n",
    "    print('torch.diag(x @ sigma_inv @ x.T)', torch.diag(x @ sigma_inv @ x.T))\n",
    "    return torch.diag(x @ sigma_inv @ x.T).mean()"
   ]
  },
  {
   "cell_type": "code",
   "execution_count": 6,
   "metadata": {},
   "outputs": [
    {
     "data": {
      "text/plain": [
       "510.35193"
      ]
     },
     "execution_count": 6,
     "metadata": {},
     "output_type": "execute_result"
    }
   ],
   "source": [
    "mu = torch.mean(full_concept_emb, dim=0)\n",
    "sigma_inv = torch.tensor(np.linalg.inv(torch.cov(full_concept_emb.T)))\n",
    "\n",
    "# for embed in full_concept_emb:\n",
    "#     print(mahalanobis_distance(embed, mu, sigma_inv))\n",
    "np.mean([mahalanobis_distance(embed, mu, sigma_inv) for embed in full_concept_emb])"
   ]
  },
  {
   "cell_type": "code",
   "execution_count": 23,
   "metadata": {},
   "outputs": [
    {
     "name": "stdout",
     "output_type": "stream",
     "text": [
      "x torch.Size([1, 512])\n",
      "x @ sigma_inv @ x.T tensor([[611.2968]])\n",
      "torch.diag(x @ sigma_inv @ x.T) tensor([611.2968])\n"
     ]
    },
    {
     "data": {
      "text/plain": [
       "tensor(611.2968)"
      ]
     },
     "execution_count": 23,
     "metadata": {},
     "output_type": "execute_result"
    }
   ],
   "source": [
    "mahalanobis_distance(full_concept_emb[0], mu, sigma_inv)"
   ]
  },
  {
   "cell_type": "code",
   "execution_count": 19,
   "metadata": {},
   "outputs": [
    {
     "data": {
      "text/plain": [
       "torch.Size([1, 512])"
      ]
     },
     "execution_count": 19,
     "metadata": {},
     "output_type": "execute_result"
    }
   ],
   "source": [
    "(full_concept_emb[0] - mu.unsqueeze(0)).size()"
   ]
  },
  {
   "cell_type": "code",
   "execution_count": null,
   "metadata": {},
   "outputs": [],
   "source": []
  },
  {
   "cell_type": "code",
   "execution_count": null,
   "metadata": {},
   "outputs": [],
   "source": [
    "t_mu = torch.mean(T, dim=0)\n",
    "t_sigma_inv = torch.linalg.inv(torch.cov(T.T))\n",
    "mean_distance = torch.tensor([mahalanobis_distance(t_row, t_mu, t_sigma_inv) for t_row in T]).mean()\n",
    "mean_distance"
   ]
  },
  {
   "cell_type": "code",
   "execution_count": null,
   "metadata": {},
   "outputs": [],
   "source": [
    "t_sigma_inv.size()"
   ]
  },
  {
   "cell_type": "code",
   "execution_count": null,
   "metadata": {},
   "outputs": [],
   "source": [
    "mahalanobis_loss = (mahalanobis_distance(E / torch.linalg.norm(E, dim=-1, keepdim=True), t_mu, t_sigma_inv) - mean_distance) / (mean_distance ** 3)\n",
    "mahalanobis_loss"
   ]
  },
  {
   "cell_type": "code",
   "execution_count": null,
   "metadata": {},
   "outputs": [],
   "source": [
    "mahalanobis_distance(E / torch.linalg.norm(E, dim=-1, keepdim=True), t_mu, t_sigma_inv)"
   ]
  },
  {
   "cell_type": "code",
   "execution_count": null,
   "metadata": {},
   "outputs": [],
   "source": [
    "mean_distance"
   ]
  },
  {
   "cell_type": "code",
   "execution_count": null,
   "metadata": {},
   "outputs": [],
   "source": [
    "T[0].unsqueeze(0) @ t_sigma_inv @ T[0].T"
   ]
  },
  {
   "cell_type": "code",
   "execution_count": null,
   "metadata": {},
   "outputs": [],
   "source": [
    "torch.diag(T[0].unsqueeze(0) @ t_sigma_inv @ T[0].T).mean()"
   ]
  },
  {
   "cell_type": "code",
   "execution_count": null,
   "metadata": {},
   "outputs": [],
   "source": []
  }
 ],
 "metadata": {
  "kernelspec": {
   "display_name": "logichoi",
   "language": "python",
   "name": "python3"
  },
  "language_info": {
   "codemirror_mode": {
    "name": "ipython",
    "version": 3
   },
   "file_extension": ".py",
   "mimetype": "text/x-python",
   "name": "python",
   "nbconvert_exporter": "python",
   "pygments_lexer": "ipython3",
   "version": "3.11.7"
  }
 },
 "nbformat": 4,
 "nbformat_minor": 2
}
